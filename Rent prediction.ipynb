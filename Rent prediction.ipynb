{
 "cells": [
  {
   "cell_type": "code",
   "execution_count": 31,
   "metadata": {},
   "outputs": [],
   "source": [
    "#importing the modules\n",
    "import pandas as pd\n",
    "import numpy as np\n",
    "import matplotlib.pyplot as plt\n",
    "import seaborn as sns\n",
    "import plotly.express as px\n",
    "from sklearn.linear_model import LinearRegression\n",
    "from sklearn.metrics import mean_squared_error, r2_score\n",
    "from sklearn.model_selection import train_test_split"
   ]
  },
  {
   "cell_type": "markdown",
   "metadata": {},
   "source": [
    "#DATA COLLECTION"
   ]
  },
  {
   "cell_type": "code",
   "execution_count": 16,
   "metadata": {},
   "outputs": [
    {
     "data": {
      "text/html": [
       "<div>\n",
       "<style scoped>\n",
       "    .dataframe tbody tr th:only-of-type {\n",
       "        vertical-align: middle;\n",
       "    }\n",
       "\n",
       "    .dataframe tbody tr th {\n",
       "        vertical-align: top;\n",
       "    }\n",
       "\n",
       "    .dataframe thead th {\n",
       "        text-align: right;\n",
       "    }\n",
       "</style>\n",
       "<table border=\"1\" class=\"dataframe\">\n",
       "  <thead>\n",
       "    <tr style=\"text-align: right;\">\n",
       "      <th></th>\n",
       "      <th>Agency</th>\n",
       "      <th>Neighborhood</th>\n",
       "      <th>Price</th>\n",
       "      <th>link</th>\n",
       "      <th>sq_mtrs</th>\n",
       "      <th>Bedrooms</th>\n",
       "      <th>Bathrooms</th>\n",
       "    </tr>\n",
       "  </thead>\n",
       "  <tbody>\n",
       "    <tr>\n",
       "      <th>0</th>\n",
       "      <td>Buy Rent Shelters</td>\n",
       "      <td>General Mathenge, Westlands</td>\n",
       "      <td>KSh 155,000</td>\n",
       "      <td>/listings/4-bedroom-apartment-for-rent-general...</td>\n",
       "      <td>4.0</td>\n",
       "      <td>4.0</td>\n",
       "      <td>4.0</td>\n",
       "    </tr>\n",
       "    <tr>\n",
       "      <th>1</th>\n",
       "      <td>Kenya Classic Homes</td>\n",
       "      <td>Kilimani, Dagoretti North</td>\n",
       "      <td>KSh 100,000</td>\n",
       "      <td>/listings/3-bedroom-apartment-for-rent-kiliman...</td>\n",
       "      <td>300.0</td>\n",
       "      <td>3.0</td>\n",
       "      <td>4.0</td>\n",
       "    </tr>\n",
       "    <tr>\n",
       "      <th>2</th>\n",
       "      <td>Absolute Estate Agents</td>\n",
       "      <td>Hatheru Rd,, Lavington, Dagoretti North</td>\n",
       "      <td>KSh 75,000</td>\n",
       "      <td>/listings/3-bedroom-apartment-for-rent-lavingt...</td>\n",
       "      <td>3.0</td>\n",
       "      <td>3.0</td>\n",
       "      <td>5.0</td>\n",
       "    </tr>\n",
       "    <tr>\n",
       "      <th>3</th>\n",
       "      <td>A1 Properties Limited</td>\n",
       "      <td>Kilimani, Dagoretti North</td>\n",
       "      <td>KSh 135,000</td>\n",
       "      <td>/listings/3-bedroom-apartment-for-rent-kiliman...</td>\n",
       "      <td>227.0</td>\n",
       "      <td>3.0</td>\n",
       "      <td>4.0</td>\n",
       "    </tr>\n",
       "    <tr>\n",
       "      <th>4</th>\n",
       "      <td>Pmc Estates Limited</td>\n",
       "      <td>Imara Daima, Embakasi</td>\n",
       "      <td>KSh 50,000</td>\n",
       "      <td>/listings/3-bedroom-apartment-for-rent-imara-d...</td>\n",
       "      <td>3.0</td>\n",
       "      <td>3.0</td>\n",
       "      <td>NaN</td>\n",
       "    </tr>\n",
       "    <tr>\n",
       "      <th>5</th>\n",
       "      <td>Lizmor Properties</td>\n",
       "      <td>Waiyaki Way, Westlands</td>\n",
       "      <td>KSh 150,000</td>\n",
       "      <td>/listings/furnished-2-bedroom-apartment-for-re...</td>\n",
       "      <td>2.0</td>\n",
       "      <td>2.0</td>\n",
       "      <td>NaN</td>\n",
       "    </tr>\n",
       "    <tr>\n",
       "      <th>6</th>\n",
       "      <td>Mambo Properties Enterprise</td>\n",
       "      <td>Off Denis Pritt, Kilimani, Dagoretti North</td>\n",
       "      <td>KSh 100,000</td>\n",
       "      <td>/listings/2-bedroom-apartment-for-rent-kiliman...</td>\n",
       "      <td>14.0</td>\n",
       "      <td>2.0</td>\n",
       "      <td>3.0</td>\n",
       "    </tr>\n",
       "    <tr>\n",
       "      <th>7</th>\n",
       "      <td>Wealthlink Realtors Ltd</td>\n",
       "      <td>Westlands Area, Westlands</td>\n",
       "      <td>KSh 100,000</td>\n",
       "      <td>/listings/3-bedroom-apartment-for-rent-westlan...</td>\n",
       "      <td>186.0</td>\n",
       "      <td>3.0</td>\n",
       "      <td>3.0</td>\n",
       "    </tr>\n",
       "    <tr>\n",
       "      <th>8</th>\n",
       "      <td>Pmc Estates Limited</td>\n",
       "      <td>Thika Road, Thika Road</td>\n",
       "      <td>KSh 85,000</td>\n",
       "      <td>/listings/4-bedroom-apartment-for-rent-thika-r...</td>\n",
       "      <td>4.0</td>\n",
       "      <td>4.0</td>\n",
       "      <td>NaN</td>\n",
       "    </tr>\n",
       "    <tr>\n",
       "      <th>9</th>\n",
       "      <td>Naftal Properties</td>\n",
       "      <td>Kilimani, Dagoretti North</td>\n",
       "      <td>KSh 65,000</td>\n",
       "      <td>/listings/2-bedroom-apartment-for-rent-kiliman...</td>\n",
       "      <td>2.0</td>\n",
       "      <td>2.0</td>\n",
       "      <td>2.0</td>\n",
       "    </tr>\n",
       "  </tbody>\n",
       "</table>\n",
       "</div>"
      ],
      "text/plain": [
       "                        Agency                                Neighborhood  \\\n",
       "0            Buy Rent Shelters                 General Mathenge, Westlands   \n",
       "1          Kenya Classic Homes                   Kilimani, Dagoretti North   \n",
       "2       Absolute Estate Agents     Hatheru Rd,, Lavington, Dagoretti North   \n",
       "3        A1 Properties Limited                   Kilimani, Dagoretti North   \n",
       "4          Pmc Estates Limited                       Imara Daima, Embakasi   \n",
       "5            Lizmor Properties                      Waiyaki Way, Westlands   \n",
       "6  Mambo Properties Enterprise  Off Denis Pritt, Kilimani, Dagoretti North   \n",
       "7      Wealthlink Realtors Ltd                   Westlands Area, Westlands   \n",
       "8          Pmc Estates Limited                      Thika Road, Thika Road   \n",
       "9            Naftal Properties                   Kilimani, Dagoretti North   \n",
       "\n",
       "         Price                                               link  sq_mtrs  \\\n",
       "0  KSh 155,000  /listings/4-bedroom-apartment-for-rent-general...      4.0   \n",
       "1  KSh 100,000  /listings/3-bedroom-apartment-for-rent-kiliman...    300.0   \n",
       "2   KSh 75,000  /listings/3-bedroom-apartment-for-rent-lavingt...      3.0   \n",
       "3  KSh 135,000  /listings/3-bedroom-apartment-for-rent-kiliman...    227.0   \n",
       "4   KSh 50,000  /listings/3-bedroom-apartment-for-rent-imara-d...      3.0   \n",
       "5  KSh 150,000  /listings/furnished-2-bedroom-apartment-for-re...      2.0   \n",
       "6  KSh 100,000  /listings/2-bedroom-apartment-for-rent-kiliman...     14.0   \n",
       "7  KSh 100,000  /listings/3-bedroom-apartment-for-rent-westlan...    186.0   \n",
       "8   KSh 85,000  /listings/4-bedroom-apartment-for-rent-thika-r...      4.0   \n",
       "9   KSh 65,000  /listings/2-bedroom-apartment-for-rent-kiliman...      2.0   \n",
       "\n",
       "   Bedrooms  Bathrooms  \n",
       "0       4.0        4.0  \n",
       "1       3.0        4.0  \n",
       "2       3.0        5.0  \n",
       "3       3.0        4.0  \n",
       "4       3.0        NaN  \n",
       "5       2.0        NaN  \n",
       "6       2.0        3.0  \n",
       "7       3.0        3.0  \n",
       "8       4.0        NaN  \n",
       "9       2.0        2.0  "
      ]
     },
     "execution_count": 16,
     "metadata": {},
     "output_type": "execute_result"
    }
   ],
   "source": [
    "df= pd.read_csv(\"rent_apts.csv\")\n",
    "df.head(10)"
   ]
  },
  {
   "cell_type": "markdown",
   "metadata": {},
   "source": [
    "DATA CLEANING"
   ]
  },
  {
   "cell_type": "code",
   "execution_count": 17,
   "metadata": {},
   "outputs": [
    {
     "data": {
      "text/plain": [
       "(1848, 7)"
      ]
     },
     "execution_count": 17,
     "metadata": {},
     "output_type": "execute_result"
    }
   ],
   "source": [
    "df.shape\n"
   ]
  },
  {
   "cell_type": "code",
   "execution_count": 18,
   "metadata": {},
   "outputs": [
    {
     "name": "stdout",
     "output_type": "stream",
     "text": [
      "<class 'pandas.core.frame.DataFrame'>\n",
      "RangeIndex: 1848 entries, 0 to 1847\n",
      "Data columns (total 7 columns):\n",
      " #   Column        Non-Null Count  Dtype  \n",
      "---  ------        --------------  -----  \n",
      " 0   Agency        1848 non-null   object \n",
      " 1   Neighborhood  1848 non-null   object \n",
      " 2   Price         1848 non-null   object \n",
      " 3   link          1848 non-null   object \n",
      " 4   sq_mtrs       1846 non-null   float64\n",
      " 5   Bedrooms      1845 non-null   float64\n",
      " 6   Bathrooms     1557 non-null   float64\n",
      "dtypes: float64(3), object(4)\n",
      "memory usage: 101.2+ KB\n"
     ]
    }
   ],
   "source": [
    "\n",
    "df.info()"
   ]
  },
  {
   "cell_type": "code",
   "execution_count": 19,
   "metadata": {},
   "outputs": [
    {
     "data": {
      "text/plain": [
       "Agency            0\n",
       "Neighborhood      0\n",
       "Price             0\n",
       "link              0\n",
       "sq_mtrs           2\n",
       "Bedrooms          3\n",
       "Bathrooms       291\n",
       "dtype: int64"
      ]
     },
     "execution_count": 19,
     "metadata": {},
     "output_type": "execute_result"
    }
   ],
   "source": [
    "df.isna().sum()  #Missing values"
   ]
  },
  {
   "cell_type": "markdown",
   "metadata": {},
   "source": [
    "There are missing values on the last three columns\n",
    "These are float data types"
   ]
  },
  {
   "cell_type": "code",
   "execution_count": 20,
   "metadata": {},
   "outputs": [
    {
     "data": {
      "text/plain": [
       "Agency           194\n",
       "Neighborhood     647\n",
       "Price            112\n",
       "link            1761\n",
       "sq_mtrs          154\n",
       "Bedrooms           7\n",
       "Bathrooms          6\n",
       "dtype: int64"
      ]
     },
     "execution_count": 20,
     "metadata": {},
     "output_type": "execute_result"
    }
   ],
   "source": [
    "#checking for number of unique values\n",
    "df.nunique()"
   ]
  },
  {
   "cell_type": "code",
   "execution_count": 21,
   "metadata": {},
   "outputs": [
    {
     "data": {
      "text/html": [
       "<div>\n",
       "<style scoped>\n",
       "    .dataframe tbody tr th:only-of-type {\n",
       "        vertical-align: middle;\n",
       "    }\n",
       "\n",
       "    .dataframe tbody tr th {\n",
       "        vertical-align: top;\n",
       "    }\n",
       "\n",
       "    .dataframe thead th {\n",
       "        text-align: right;\n",
       "    }\n",
       "</style>\n",
       "<table border=\"1\" class=\"dataframe\">\n",
       "  <thead>\n",
       "    <tr style=\"text-align: right;\">\n",
       "      <th></th>\n",
       "      <th>sq_mtrs</th>\n",
       "      <th>Bedrooms</th>\n",
       "      <th>Bathrooms</th>\n",
       "    </tr>\n",
       "  </thead>\n",
       "  <tbody>\n",
       "    <tr>\n",
       "      <th>count</th>\n",
       "      <td>1846.000000</td>\n",
       "      <td>1845.000000</td>\n",
       "      <td>1557.000000</td>\n",
       "    </tr>\n",
       "    <tr>\n",
       "      <th>mean</th>\n",
       "      <td>327.226977</td>\n",
       "      <td>2.577778</td>\n",
       "      <td>2.595376</td>\n",
       "    </tr>\n",
       "    <tr>\n",
       "      <th>std</th>\n",
       "      <td>2048.784581</td>\n",
       "      <td>0.819399</td>\n",
       "      <td>1.000349</td>\n",
       "    </tr>\n",
       "    <tr>\n",
       "      <th>min</th>\n",
       "      <td>0.000000</td>\n",
       "      <td>0.000000</td>\n",
       "      <td>1.000000</td>\n",
       "    </tr>\n",
       "    <tr>\n",
       "      <th>25%</th>\n",
       "      <td>2.000000</td>\n",
       "      <td>2.000000</td>\n",
       "      <td>2.000000</td>\n",
       "    </tr>\n",
       "    <tr>\n",
       "      <th>50%</th>\n",
       "      <td>3.000000</td>\n",
       "      <td>3.000000</td>\n",
       "      <td>2.000000</td>\n",
       "    </tr>\n",
       "    <tr>\n",
       "      <th>75%</th>\n",
       "      <td>4.000000</td>\n",
       "      <td>3.000000</td>\n",
       "      <td>3.000000</td>\n",
       "    </tr>\n",
       "    <tr>\n",
       "      <th>max</th>\n",
       "      <td>40470.000000</td>\n",
       "      <td>6.000000</td>\n",
       "      <td>6.000000</td>\n",
       "    </tr>\n",
       "  </tbody>\n",
       "</table>\n",
       "</div>"
      ],
      "text/plain": [
       "            sq_mtrs     Bedrooms    Bathrooms\n",
       "count   1846.000000  1845.000000  1557.000000\n",
       "mean     327.226977     2.577778     2.595376\n",
       "std     2048.784581     0.819399     1.000349\n",
       "min        0.000000     0.000000     1.000000\n",
       "25%        2.000000     2.000000     2.000000\n",
       "50%        3.000000     3.000000     2.000000\n",
       "75%        4.000000     3.000000     3.000000\n",
       "max    40470.000000     6.000000     6.000000"
      ]
     },
     "execution_count": 21,
     "metadata": {},
     "output_type": "execute_result"
    }
   ],
   "source": [
    "df.describe()"
   ]
  },
  {
   "cell_type": "code",
   "execution_count": 22,
   "metadata": {},
   "outputs": [
    {
     "data": {
      "text/plain": [
       "0        155000\n",
       "1        100000\n",
       "2         75000\n",
       "3        135000\n",
       "4         50000\n",
       "         ...   \n",
       "1843     180000\n",
       "1844     180000\n",
       "1845     180000\n",
       "1846     180000\n",
       "1847     180000\n",
       "Name: Price, Length: 1848, dtype: object"
      ]
     },
     "execution_count": 22,
     "metadata": {},
     "output_type": "execute_result"
    }
   ],
   "source": [
    "#the price column is an object type, we shall convert it to float\n",
    "#first we shall remove the KSh sign and the comma (KSh 50,000)\n",
    "df['Price'].str.replace('KSh','',regex=True).str.replace(',','')"
   ]
  },
  {
   "cell_type": "code",
   "execution_count": 23,
   "metadata": {},
   "outputs": [],
   "source": [
    "df['Price'] = df['Price'].str.replace('KSh','',regex=True).str.replace(',','').astype(float)"
   ]
  },
  {
   "cell_type": "code",
   "execution_count": 24,
   "metadata": {},
   "outputs": [
    {
     "data": {
      "text/plain": [
       "<AxesSubplot: >"
      ]
     },
     "execution_count": 24,
     "metadata": {},
     "output_type": "execute_result"
    },
    {
     "data": {
      "image/png": "[encoded data removed]",
      "text/plain": [
       "<Figure size 640x480 with 1 Axes>"
      ]
     },
     "metadata": {},
     "output_type": "display_data"
    }
   ],
   "source": [
    "#Heatmap for missing values\n",
    "import seaborn as sns\n",
    "\n",
    "sns.heatmap(df.isnull(),yticklabels=False,cbar=False,cmap='viridis')"
   ]
  },
  {
   "cell_type": "code",
   "execution_count": 25,
   "metadata": {},
   "outputs": [],
   "source": [
    "#We can see that the bathroom column has quite a number of missing values\n",
    "#Lets first remove rows(houses) that dont have sq_mtrs and bedrooms\n",
    "df.dropna(subset=['sq_mtrs','Bedrooms'],inplace=True)"
   ]
  },
  {
   "cell_type": "code",
   "execution_count": 26,
   "metadata": {},
   "outputs": [
    {
     "data": {
      "text/html": [
       "<div>\n",
       "<style scoped>\n",
       "    .dataframe tbody tr th:only-of-type {\n",
       "        vertical-align: middle;\n",
       "    }\n",
       "\n",
       "    .dataframe tbody tr th {\n",
       "        vertical-align: top;\n",
       "    }\n",
       "\n",
       "    .dataframe thead th {\n",
       "        text-align: right;\n",
       "    }\n",
       "</style>\n",
       "<table border=\"1\" class=\"dataframe\">\n",
       "  <thead>\n",
       "    <tr style=\"text-align: right;\">\n",
       "      <th></th>\n",
       "      <th>Agency</th>\n",
       "      <th>Neighborhood</th>\n",
       "      <th>Price</th>\n",
       "      <th>link</th>\n",
       "      <th>sq_mtrs</th>\n",
       "      <th>Bedrooms</th>\n",
       "      <th>Bathrooms</th>\n",
       "    </tr>\n",
       "  </thead>\n",
       "  <tbody>\n",
       "    <tr>\n",
       "      <th>4</th>\n",
       "      <td>Pmc Estates Limited</td>\n",
       "      <td>Imara Daima, Embakasi</td>\n",
       "      <td>50000.0</td>\n",
       "      <td>/listings/3-bedroom-apartment-for-rent-imara-d...</td>\n",
       "      <td>3.0</td>\n",
       "      <td>3.0</td>\n",
       "      <td>NaN</td>\n",
       "    </tr>\n",
       "    <tr>\n",
       "      <th>5</th>\n",
       "      <td>Lizmor Properties</td>\n",
       "      <td>Waiyaki Way, Westlands</td>\n",
       "      <td>150000.0</td>\n",
       "      <td>/listings/furnished-2-bedroom-apartment-for-re...</td>\n",
       "      <td>2.0</td>\n",
       "      <td>2.0</td>\n",
       "      <td>NaN</td>\n",
       "    </tr>\n",
       "    <tr>\n",
       "      <th>8</th>\n",
       "      <td>Pmc Estates Limited</td>\n",
       "      <td>Thika Road, Thika Road</td>\n",
       "      <td>85000.0</td>\n",
       "      <td>/listings/4-bedroom-apartment-for-rent-thika-r...</td>\n",
       "      <td>4.0</td>\n",
       "      <td>4.0</td>\n",
       "      <td>NaN</td>\n",
       "    </tr>\n",
       "    <tr>\n",
       "      <th>19</th>\n",
       "      <td>Real Management Services 2002Limited</td>\n",
       "      <td>Sports Road, Waiyaki Way, Westlands</td>\n",
       "      <td>13000.0</td>\n",
       "      <td>/listings/studio-apartment-for-rent-waiyaki-wa...</td>\n",
       "      <td>0.0</td>\n",
       "      <td>0.0</td>\n",
       "      <td>NaN</td>\n",
       "    </tr>\n",
       "    <tr>\n",
       "      <th>36</th>\n",
       "      <td>Cfs Homes</td>\n",
       "      <td>Ruaka, Kiambaa</td>\n",
       "      <td>16000.0</td>\n",
       "      <td>/listings/1-bedroom-apartment-for-rent-ruaka-3...</td>\n",
       "      <td>1.0</td>\n",
       "      <td>1.0</td>\n",
       "      <td>NaN</td>\n",
       "    </tr>\n",
       "    <tr>\n",
       "      <th>...</th>\n",
       "      <td>...</td>\n",
       "      <td>...</td>\n",
       "      <td>...</td>\n",
       "      <td>...</td>\n",
       "      <td>...</td>\n",
       "      <td>...</td>\n",
       "      <td>...</td>\n",
       "    </tr>\n",
       "    <tr>\n",
       "      <th>1817</th>\n",
       "      <td>Capstone Properties</td>\n",
       "      <td>General Mathenge, Westlands</td>\n",
       "      <td>175000.0</td>\n",
       "      <td>/listings/3-bedroom-apartment-for-rent-general...</td>\n",
       "      <td>3.0</td>\n",
       "      <td>3.0</td>\n",
       "      <td>NaN</td>\n",
       "    </tr>\n",
       "    <tr>\n",
       "      <th>1820</th>\n",
       "      <td>Cloud Real Estate</td>\n",
       "      <td>General Mathenge, Westlands</td>\n",
       "      <td>175000.0</td>\n",
       "      <td>/listings/4-bedroom-apartment-for-rent-general...</td>\n",
       "      <td>4.0</td>\n",
       "      <td>4.0</td>\n",
       "      <td>NaN</td>\n",
       "    </tr>\n",
       "    <tr>\n",
       "      <th>1833</th>\n",
       "      <td>Rainbow Properties Limited</td>\n",
       "      <td>State House, Dagoretti North</td>\n",
       "      <td>180000.0</td>\n",
       "      <td>/listings/furnished-3-bedroom-apartment-for-re...</td>\n",
       "      <td>3.0</td>\n",
       "      <td>3.0</td>\n",
       "      <td>NaN</td>\n",
       "    </tr>\n",
       "    <tr>\n",
       "      <th>1843</th>\n",
       "      <td>Avic International</td>\n",
       "      <td>Laikipia Road, Kileleshwa, Dagoretti North</td>\n",
       "      <td>180000.0</td>\n",
       "      <td>/listings/3-bedroom-apartment-for-rent-kileles...</td>\n",
       "      <td>3.0</td>\n",
       "      <td>3.0</td>\n",
       "      <td>NaN</td>\n",
       "    </tr>\n",
       "    <tr>\n",
       "      <th>1847</th>\n",
       "      <td>Pmc Estates Limited</td>\n",
       "      <td>Kilimani, Dagoretti North</td>\n",
       "      <td>180000.0</td>\n",
       "      <td>/listings/2-bedroom-apartment-for-rent-kiliman...</td>\n",
       "      <td>2.0</td>\n",
       "      <td>2.0</td>\n",
       "      <td>NaN</td>\n",
       "    </tr>\n",
       "  </tbody>\n",
       "</table>\n",
       "<p>288 rows × 7 columns</p>\n",
       "</div>"
      ],
      "text/plain": [
       "                                    Agency  \\\n",
       "4                      Pmc Estates Limited   \n",
       "5                        Lizmor Properties   \n",
       "8                      Pmc Estates Limited   \n",
       "19    Real Management Services 2002Limited   \n",
       "36                               Cfs Homes   \n",
       "...                                    ...   \n",
       "1817                   Capstone Properties   \n",
       "1820                     Cloud Real Estate   \n",
       "1833            Rainbow Properties Limited   \n",
       "1843                    Avic International   \n",
       "1847                   Pmc Estates Limited   \n",
       "\n",
       "                                    Neighborhood     Price  \\\n",
       "4                          Imara Daima, Embakasi   50000.0   \n",
       "5                         Waiyaki Way, Westlands  150000.0   \n",
       "8                         Thika Road, Thika Road   85000.0   \n",
       "19           Sports Road, Waiyaki Way, Westlands   13000.0   \n",
       "36                                Ruaka, Kiambaa   16000.0   \n",
       "...                                          ...       ...   \n",
       "1817                 General Mathenge, Westlands  175000.0   \n",
       "1820                 General Mathenge, Westlands  175000.0   \n",
       "1833                State House, Dagoretti North  180000.0   \n",
       "1843  Laikipia Road, Kileleshwa, Dagoretti North  180000.0   \n",
       "1847                   Kilimani, Dagoretti North  180000.0   \n",
       "\n",
       "                                                   link  sq_mtrs  Bedrooms  \\\n",
       "4     /listings/3-bedroom-apartment-for-rent-imara-d...      3.0       3.0   \n",
       "5     /listings/furnished-2-bedroom-apartment-for-re...      2.0       2.0   \n",
       "8     /listings/4-bedroom-apartment-for-rent-thika-r...      4.0       4.0   \n",
       "19    /listings/studio-apartment-for-rent-waiyaki-wa...      0.0       0.0   \n",
       "36    /listings/1-bedroom-apartment-for-rent-ruaka-3...      1.0       1.0   \n",
       "...                                                 ...      ...       ...   \n",
       "1817  /listings/3-bedroom-apartment-for-rent-general...      3.0       3.0   \n",
       "1820  /listings/4-bedroom-apartment-for-rent-general...      4.0       4.0   \n",
       "1833  /listings/furnished-3-bedroom-apartment-for-re...      3.0       3.0   \n",
       "1843  /listings/3-bedroom-apartment-for-rent-kileles...      3.0       3.0   \n",
       "1847  /listings/2-bedroom-apartment-for-rent-kiliman...      2.0       2.0   \n",
       "\n",
       "      Bathrooms  \n",
       "4           NaN  \n",
       "5           NaN  \n",
       "8           NaN  \n",
       "19          NaN  \n",
       "36          NaN  \n",
       "...         ...  \n",
       "1817        NaN  \n",
       "1820        NaN  \n",
       "1833        NaN  \n",
       "1843        NaN  \n",
       "1847        NaN  \n",
       "\n",
       "[288 rows x 7 columns]"
      ]
     },
     "execution_count": 26,
     "metadata": {},
     "output_type": "execute_result"
    }
   ],
   "source": [
    "#check for houses that have missing bathrooms as null values\n",
    "df[df['Bathrooms'].isnull()]"
   ]
  },
  {
   "cell_type": "code",
   "execution_count": 27,
   "metadata": {},
   "outputs": [
    {
     "data": {
      "text/plain": [
       "0       4.0\n",
       "1       4.0\n",
       "2       5.0\n",
       "3       4.0\n",
       "4       3.0\n",
       "       ... \n",
       "1843    3.0\n",
       "1844    2.0\n",
       "1845    5.0\n",
       "1846    4.0\n",
       "1847    2.0\n",
       "Name: Bathrooms, Length: 1845, dtype: float64"
      ]
     },
     "execution_count": 27,
     "metadata": {},
     "output_type": "execute_result"
    }
   ],
   "source": [
    "#we see the bathroom column has a good correlation with the price column\n",
    "#We shall group the houses by the number of bedrooms and fill the missing values\n",
    "#with the mean of the bathrooms in each group, rounded to whole numbers\n",
    "df.groupby('Bedrooms')['Bathrooms'].transform(lambda x: x.fillna(round(x.mean())))"
   ]
  },
  {
   "cell_type": "code",
   "execution_count": 29,
   "metadata": {},
   "outputs": [],
   "source": [
    "df['Bathrooms'] = df.groupby('Bedrooms')['Bathrooms'].transform(lambda x: x.fillna(round(x.mean())))"
   ]
  },
  {
   "cell_type": "code",
   "execution_count": 30,
   "metadata": {},
   "outputs": [
    {
     "data": {
      "text/plain": [
       "Agency          0\n",
       "Neighborhood    0\n",
       "Price           0\n",
       "link            0\n",
       "sq_mtrs         0\n",
       "Bedrooms        0\n",
       "Bathrooms       0\n",
       "dtype: int64"
      ]
     },
     "execution_count": 30,
     "metadata": {},
     "output_type": "execute_result"
    }
   ],
   "source": [
    "df.isnull().sum()"
   ]
  },
  {
   "cell_type": "markdown",
   "metadata": {},
   "source": [
    "VISUALISATIONS\n"
   ]
  },
  {
   "cell_type": "markdown",
   "metadata": {},
   "source": [
    "MODEL CREATIOM"
   ]
  },
  {
   "cell_type": "code",
   "execution_count": 33,
   "metadata": {},
   "outputs": [],
   "source": [
    "# Separate features and labels\n",
    "# After separating the dataset, we now have numpy arrays named **X** containing the features, and **y** containing the labels.\n",
    "x,y = df[['Agency','Neighborhood','sq_mtrs','Bedrooms','Bathrooms']],df['Price']"
   ]
  },
  {
   "cell_type": "code",
   "execution_count": 35,
   "metadata": {},
   "outputs": [
    {
     "name": "stdout",
     "output_type": "stream",
     "text": [
      "Training Set: 1291 rows\n",
      "Test Set: 554 rows\n"
     ]
    }
   ],
   "source": [
    "# Split data 70%-30% into training set and test set\n",
    "x_train, x_test, y_train, y_test = train_test_split(x, y, test_size=0.30, random_state=0)\n",
    "\n",
    "print ('Training Set: %d rows\\nTest Set: %d rows' % (x_train.shape[0], x_test.shape[0]))"
   ]
  }
 ],
 "metadata": {
  "kernelspec": {
   "display_name": "Python 3.10.6 64-bit (microsoft store)",
   "language": "python",
   "name": "python3"
  },
  "language_info": {
   "codemirror_mode": {
    "name": "ipython",
    "version": 3
   },
   "file_extension": ".py",
   "mimetype": "text/x-python",
   "name": "python",
   "nbconvert_exporter": "python",
   "pygments_lexer": "ipython3",
   "version": "3.10.11"
  },
  "orig_nbformat": 4,
  "vscode": {
   "interpreter": {
    "hash": "66eba28a75a64fbe1a9b9c30d27f7c856726c51cbbef86297708eae4ce175db0"
   }
  }
 },
 "nbformat": 4,
 "nbformat_minor": 2
}
